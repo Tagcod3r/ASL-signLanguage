{
 "cells": [
  {
   "cell_type": "code",
   "execution_count": 8,
   "id": "81d26994-71fa-481a-a38b-126ebcff197c",
   "metadata": {},
   "outputs": [],
   "source": [
    "import pickle\n",
    "import cv2\n",
    "import mediapipe as mp\n",
    "import numpy as np\n",
    "import time\n",
    "import os"
   ]
  },
  {
   "cell_type": "code",
   "execution_count": 9,
   "id": "a1d71a16-b5d1-4427-97cb-77b8b533f676",
   "metadata": {},
   "outputs": [
    {
     "name": "stdout",
     "output_type": "stream",
     "text": [
      "Model loaded successfully\n"
     ]
    }
   ],
   "source": [
    "model_dict = pickle.load(open('../model.p', 'rb'))\n",
    "model = model_dict['model']\n",
    "\n",
    "print(\"Model loaded successfully\")"
   ]
  },
  {
   "cell_type": "code",
   "execution_count": 10,
   "id": "e912dcec-6c4b-47b7-8562-2fb0f5c204b3",
   "metadata": {},
   "outputs": [
    {
     "name": "stdout",
     "output_type": "stream",
     "text": [
      "Class labels: {0: 'A', 1: 'B', 2: 'C', 3: 'D', 4: 'E', 5: 'F', 6: 'G', 7: 'H', 8: 'I', 9: 'J', 10: 'K', 11: 'L', 12: 'M', 13: 'N', 14: 'O', 15: 'P', 16: 'Q', 17: 'R', 18: 'S', 19: 'T', 20: 'U', 21: 'V', 22: 'W', 23: 'X', 24: 'Y', 25: 'Z', 26: 'del', 27: 'nothing', 28: 'space'}\n"
     ]
    }
   ],
   "source": [
    "# labels\n",
    "DATA_DIR = \"../data\"\n",
    "\n",
    "class_names = sorted(os.listdir(DATA_DIR))\n",
    "labels_dict = {i: class_name for i, class_name in enumerate(class_names)}\n",
    "\n",
    "print(\"Class labels:\", labels_dict)"
   ]
  },
  {
   "cell_type": "code",
   "execution_count": 11,
   "id": "021e6a11-f850-4efc-8bad-10581d414be9",
   "metadata": {},
   "outputs": [],
   "source": [
    "# Initialize Mediapipe\n",
    "mp_hands = mp.solutions.hands\n",
    "mp_drawing = mp.solutions.drawing_utils\n",
    "mp_drawing_styles = mp.solutions.drawing_styles\n",
    "\n",
    "hands = mp_hands.Hands(\n",
    "    static_image_mode=False, \n",
    "    max_num_hands=1, \n",
    "    min_detection_confidence=0.5, \n",
    "    min_tracking_confidence=0.5\n",
    ")"
   ]
  },
  {
   "cell_type": "code",
   "execution_count": 12,
   "id": "0f036c81-94f6-42b9-bc9e-13be6d4cb495",
   "metadata": {},
   "outputs": [
    {
     "name": "stdout",
     "output_type": "stream",
     "text": [
      "Camera opened successfully. Press 'q' to quit.\n"
     ]
    }
   ],
   "source": [
    "# video capture\n",
    "cap = cv2.VideoCapture(0)\n",
    "if not cap.isOpened():\n",
    "    raise Exception(\"Could not open video device. Try changing the camera index.\")\n",
    "\n",
    "print(\"Camera opened successfully. Press 'q' to quit.\")"
   ]
  },
  {
   "cell_type": "code",
   "execution_count": null,
   "id": "4677a054-057e-4dfa-ab7d-775084f5dc9b",
   "metadata": {},
   "outputs": [],
   "source": [
    "# Real-time ASL Recognition\n",
    "prev_time = 0\n",
    "\n",
    "while True:\n",
    "    ret, frame = cap.read()\n",
    "    if not ret:\n",
    "        print(\"⚠️ Failed to grab frame\")\n",
    "        continue  \n",
    "\n",
    "    H, W, _ = frame.shape\n",
    "    frame_rgb = cv2.cvtColor(frame, cv2.COLOR_BGR2RGB)\n",
    "    results = hands.process(frame_rgb)\n",
    "\n",
    "    if results.multi_hand_landmarks:\n",
    "        for hand_landmarks in results.multi_hand_landmarks:\n",
    "            # Draw landmarks\n",
    "            mp_drawing.draw_landmarks(\n",
    "                frame,\n",
    "                hand_landmarks,\n",
    "                mp_hands.HAND_CONNECTIONS,\n",
    "                mp_drawing_styles.get_default_hand_landmarks_style(),\n",
    "                mp_drawing_styles.get_default_hand_connections_style()\n",
    "            )\n",
    "\n",
    "            # Extract features\n",
    "            x_ = [lm.x for lm in hand_landmarks.landmark]\n",
    "            y_ = [lm.y for lm in hand_landmarks.landmark]\n",
    "\n",
    "            data_aux = []\n",
    "            for i in range(len(hand_landmarks.landmark)):\n",
    "                data_aux.append(x_[i] - min(x_))\n",
    "                data_aux.append(y_[i] - min(y_))\n",
    "\n",
    "            # Bounding box\n",
    "            x1 = int(min(x_) * W) - 10\n",
    "            y1 = int(min(y_) * H) - 10\n",
    "            x2 = int(max(x_) * W) + 10\n",
    "            y2 = int(max(y_) * H) + 10\n",
    "\n",
    "            # Prediction\n",
    "            prediction = model.predict([np.asarray(data_aux)])\n",
    "            predicted_character = prediction[0]   # use directly, no need to map\n",
    "\n",
    "            # Draw bounding box & prediction\n",
    "            cv2.rectangle(frame, (x1, y1), (x2, y2), (0, 255, 0), 3)\n",
    "            cv2.putText(frame, predicted_character, (x1, y1 - 15),\n",
    "                        cv2.FONT_HERSHEY_SIMPLEX, 1.2, (0, 0, 0), 3, cv2.LINE_AA)\n",
    "            cv2.putText(frame, predicted_character, (x1, y1 - 15),\n",
    "                        cv2.FONT_HERSHEY_SIMPLEX, 1.2, (0, 255, 0), 2, cv2.LINE_AA)\n",
    "\n",
    "    # FPS Counter\n",
    "    curr_time = time.time()\n",
    "    fps = 1 / (curr_time - prev_time) if prev_time else 0\n",
    "    prev_time = curr_time\n",
    "    cv2.putText(frame, f\"FPS: {int(fps)}\", (10, 30),\n",
    "                cv2.FONT_HERSHEY_SIMPLEX, 1, (255, 0, 0), 2, cv2.LINE_AA)\n",
    "\n",
    "    # Show frame\n",
    "    cv2.imshow('ASL Recognition', frame)\n",
    "    \n",
    "    # Exit on 'q'\n",
    "    if cv2.waitKey(1) & 0xFF == ord('q'):\n",
    "        break\n",
    "\n",
    "cap.release()\n",
    "cv2.destroyAllWindows()"
   ]
  },
  {
   "cell_type": "code",
   "execution_count": null,
   "id": "485f0b5d-2e09-4fb3-a254-af17f7a185a7",
   "metadata": {},
   "outputs": [],
   "source": []
  }
 ],
 "metadata": {
  "kernelspec": {
   "display_name": "Python (asl)",
   "language": "python",
   "name": "asl"
  },
  "language_info": {
   "codemirror_mode": {
    "name": "ipython",
    "version": 3
   },
   "file_extension": ".py",
   "mimetype": "text/x-python",
   "name": "python",
   "nbconvert_exporter": "python",
   "pygments_lexer": "ipython3",
   "version": "3.10.18"
  }
 },
 "nbformat": 4,
 "nbformat_minor": 5
}
