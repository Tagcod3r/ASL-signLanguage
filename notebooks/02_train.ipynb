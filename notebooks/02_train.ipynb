{
 "cells": [
  {
   "cell_type": "code",
   "execution_count": 7,
   "id": "0af58749-ced4-42bc-b520-45e7aa89b68b",
   "metadata": {},
   "outputs": [],
   "source": [
    "import pickle\n",
    "import numpy as np\n",
    "from collections import Counter\n",
    "from sklearn.ensemble import RandomForestClassifier\n",
    "from sklearn.model_selection import train_test_split\n",
    "from sklearn.metrics import accuracy_score"
   ]
  },
  {
   "cell_type": "code",
   "execution_count": 8,
   "id": "aa7aba31-683a-4b24-9e76-99cb72034e75",
   "metadata": {
    "scrolled": true
   },
   "outputs": [
    {
     "name": "stdout",
     "output_type": "stream",
     "text": [
      "Dataset loaded!\n",
      "Shape of data: (73283, 42)\n",
      "Number of labels: 73283\n",
      "Filtered dataset shape: (73283, 42)\n",
      "Number of labels after filtering: 73283\n"
     ]
    }
   ],
   "source": [
    "data_dict = pickle.load(open('../asl_keypoints_dataset.pickle', 'rb'))\n",
    "\n",
    "data = np.asarray(data_dict['data'])\n",
    "labels = np.asarray(data_dict['labels'])\n",
    "\n",
    "print(\"Dataset loaded!\")\n",
    "print(\"Shape of data:\", data.shape)\n",
    "print(\"Number of labels:\", len(labels))\n",
    "\n",
    "# Count samples per class\n",
    "label_counts = Counter(labels)\n",
    "\n",
    "# Keep only classes with >= 2 samples\n",
    "valid_indices = [i for i, label in enumerate(labels) if label_counts[label] >= 2]\n",
    "filtered_data = data[valid_indices]\n",
    "filtered_labels = labels[valid_indices]\n",
    "\n",
    "print(\"Filtered dataset shape:\", filtered_data.shape)\n",
    "print(\"Number of labels after filtering:\", len(filtered_labels))"
   ]
  },
  {
   "cell_type": "code",
   "execution_count": 9,
   "id": "82d18ea8-858b-4470-aea9-5f3d5c2044c1",
   "metadata": {},
   "outputs": [
    {
     "name": "stdout",
     "output_type": "stream",
     "text": [
      "Training samples: 58626\n",
      "Testing samples: 14657\n"
     ]
    }
   ],
   "source": [
    "x_train, x_test, y_train, y_test = train_test_split(\n",
    "    filtered_data, filtered_labels, test_size=0.2, shuffle=True, stratify=filtered_labels\n",
    ")\n",
    "\n",
    "print(f\"Training samples: {x_train.shape[0]}\")\n",
    "print(f\"Testing samples: {x_test.shape[0]}\")"
   ]
  },
  {
   "cell_type": "code",
   "execution_count": 10,
   "id": "77dc21e5-79c3-46de-9182-cd75cb932062",
   "metadata": {},
   "outputs": [
    {
     "name": "stdout",
     "output_type": "stream",
     "text": [
      "Model training complete!\n"
     ]
    }
   ],
   "source": [
    "model = RandomForestClassifier()\n",
    "model.fit(x_train, y_train)\n",
    "print(\"Model training complete!\")"
   ]
  },
  {
   "cell_type": "code",
   "execution_count": 11,
   "id": "5ba54bfb-46c1-4842-bacd-08764ccb6971",
   "metadata": {},
   "outputs": [
    {
     "name": "stdout",
     "output_type": "stream",
     "text": [
      "98.62% of samples were classified correctly!\n"
     ]
    }
   ],
   "source": [
    "y_predict = model.predict(x_test)\n",
    "score = accuracy_score(y_predict, y_test)\n",
    "print(f\"{score * 100:.2f}% of samples were classified correctly!\")"
   ]
  },
  {
   "cell_type": "code",
   "execution_count": 12,
   "id": "cd85bb21-9f0f-431d-a18b-07bbe5b32a58",
   "metadata": {},
   "outputs": [
    {
     "name": "stdout",
     "output_type": "stream",
     "text": [
      "Model saved to model.p\n"
     ]
    }
   ],
   "source": [
    "with open('../model.p', 'wb') as f:\n",
    "    pickle.dump({'model': model}, f)\n",
    "\n",
    "print(\"Model saved to model.p\")"
   ]
  },
  {
   "cell_type": "code",
   "execution_count": null,
   "id": "3cdac455-30ca-468d-a759-bf92fef9c102",
   "metadata": {},
   "outputs": [],
   "source": []
  }
 ],
 "metadata": {
  "kernelspec": {
   "display_name": "Python (asl)",
   "language": "python",
   "name": "asl"
  },
  "language_info": {
   "codemirror_mode": {
    "name": "ipython",
    "version": 3
   },
   "file_extension": ".py",
   "mimetype": "text/x-python",
   "name": "python",
   "nbconvert_exporter": "python",
   "pygments_lexer": "ipython3",
   "version": "3.10.18"
  }
 },
 "nbformat": 4,
 "nbformat_minor": 5
}
